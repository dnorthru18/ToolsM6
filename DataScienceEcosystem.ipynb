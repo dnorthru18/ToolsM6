{
 "cells": [
  {
   "cell_type": "markdown",
   "id": "9c7e82b1-3d4e-4b2d-8327-3361ef5c7caa",
   "metadata": {},
   "source": [
    "# Data Science Tools and Ecosystem"
   ]
  },
  {
   "cell_type": "markdown",
   "id": "fd16efc0-4b5b-4f03-8fea-ef2c3a2469ef",
   "metadata": {},
   "source": [
    "### In this notebook, Data Science Tools and Ecosystem are summarized"
   ]
  },
  {
   "cell_type": "markdown",
   "id": "e4f56cc8-5d45-49bd-bea0-18e5f8fe968f",
   "metadata": {},
   "source": [
    "**Objectives:**\n",
    "* List Popular Languages for Data Science\n",
    "* List Commonly Used Libraries\n",
    "* List some commonly used development environment tools"
   ]
  },
  {
   "cell_type": "markdown",
   "id": "ae231ab5-48cb-43c2-b9f5-fe4b499ed482",
   "metadata": {},
   "source": [
    "## Some of the popular languages that Data Scientists use are:\n",
    "1. Python\n",
    "2. R\n",
    "3. SQL\n",
    "4. Java\n",
    "5. Julia"
   ]
  },
  {
   "cell_type": "markdown",
   "id": "1632effa-20ba-485d-87fb-ac61e026159f",
   "metadata": {},
   "source": [
    "## Some of the commonly used libraries used by data scientists include:\n",
    "1. NumPy\n",
    "2. Pandas\n",
    "3. Matplot"
   ]
  },
  {
   "cell_type": "markdown",
   "id": "edf6c5d6-06cb-4137-baa8-407fcb8fb1d5",
   "metadata": {},
   "source": [
    "|Data Science Tools|\n",
    "|-------------------|\n",
    "|Jupyter Notebooks|\n",
    "|Anaconda Navigator|\n",
    "|GitHub|"
   ]
  },
  {
   "cell_type": "markdown",
   "id": "95f43078-6cdb-47d3-bb20-6213681235d7",
   "metadata": {},
   "source": [
    "### Below are a few examples of evaluating arithmetic expressions in Python"
   ]
  },
  {
   "cell_type": "code",
   "execution_count": 2,
   "id": "44e349ec-e2cb-40e2-82f2-b833ce9067e3",
   "metadata": {},
   "outputs": [
    {
     "data": {
      "text/plain": [
       "17"
      ]
     },
     "execution_count": 2,
     "metadata": {},
     "output_type": "execute_result"
    }
   ],
   "source": [
    "(3*4)+5"
   ]
  },
  {
   "cell_type": "code",
   "execution_count": null,
   "id": "0bcfe6a9-18a1-4fe5-a736-31af867dd36f",
   "metadata": {},
   "outputs": [],
   "source": [
    "# Conversion of minutes to hours\n",
    "# Set minutes equal to relevant number, hours will be calculated and printed"
   ]
  },
  {
   "cell_type": "code",
   "execution_count": 4,
   "id": "4330d537-eacd-44e9-b4fb-207d04a73e9b",
   "metadata": {},
   "outputs": [
    {
     "name": "stdout",
     "output_type": "stream",
     "text": [
      "3.3333333333333335\n"
     ]
    }
   ],
   "source": [
    "minutes=200\n",
    "hr=minutes/60\n",
    "print(hr)"
   ]
  },
  {
   "cell_type": "markdown",
   "id": "943d9722-2704-4b65-b718-12df4f11521e",
   "metadata": {},
   "source": [
    "## Author\n",
    "Denine Northrup"
   ]
  },
  {
   "cell_type": "code",
   "execution_count": null,
   "id": "f4f4b339-2e6c-4a66-ad41-82222a3f06a3",
   "metadata": {},
   "outputs": [],
   "source": []
  }
 ],
 "metadata": {
  "kernelspec": {
   "display_name": "Python 3 (ipykernel)",
   "language": "python",
   "name": "python3"
  },
  "language_info": {
   "codemirror_mode": {
    "name": "ipython",
    "version": 3
   },
   "file_extension": ".py",
   "mimetype": "text/x-python",
   "name": "python",
   "nbconvert_exporter": "python",
   "pygments_lexer": "ipython3",
   "version": "3.12.7"
  }
 },
 "nbformat": 4,
 "nbformat_minor": 5
}
